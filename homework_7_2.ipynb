{
  "nbformat": 4,
  "nbformat_minor": 0,
  "metadata": {
    "colab": {
      "name": "homework_7_2.ipynb",
      "provenance": [],
      "collapsed_sections": []
    },
    "kernelspec": {
      "name": "python3",
      "display_name": "Python 3"
    },
    "language_info": {
      "name": "python"
    }
  },
  "cells": [
    {
      "cell_type": "markdown",
      "source": [
        "2. (30%) Considering the parsimonious principle in modeling, set up LR, 𝑘NN, and SVM models using as few variables (pixels) to get as close as possible to the results in EX1."
      ],
      "metadata": {
        "id": "w2UmG371-iXp"
      }
    },
    {
      "cell_type": "code",
      "execution_count": null,
      "metadata": {
        "id": "EEqLXuSg3Ekb"
      },
      "outputs": [],
      "source": [
        "from PIL import Image\n",
        "import numpy as np\n",
        "from numpy import array\n",
        "from tkinter import _flatten\n",
        "import math\n",
        "import matplotlib.pyplot as plt\n",
        "import os\n"
      ]
    },
    {
      "cell_type": "code",
      "source": [
        "import numpy\n",
        "\n",
        "# 1 - 0, 2 - 1, 3 - 1, 4 - 1, 5 - 1, 6 - 1, 7 - 1, 8 - 0, 9 - 1, 10 - 0, 11 - 1, 12 - 0, 13 - 1, 14 - 1, 15 - 1\n",
        "# 16 - 1, 17 - 1, 18 - 1, 19 - 1, 20 - 1, 21 - 1, 22 - 1, 23 - 1, 24 - 1, 25 - 1, 26 - 1, 27 - 1, 28 - 1, 29 - 1, 30 - 1\n",
        "# 31 - 1, 32 - 0, 33 - 1, 34 - 1, 35 - 1, 36 - 1, 37 - 1, 38 - 1, 39 - 1, 40 - 1  \n",
        "gender = [0, 1, 1, 1, 1, 1, 1, 0, 1, 0,1, 0, 1,1,1,1,1,1,1,1,1,1,1,1,1,1,1,1,1,1,1,0,1,1,1,1,1,1,1,1]\n",
        "len(gender)\n",
        "\n",
        "final = []\n",
        "for i in gender:\n",
        "  if i == 0:\n",
        "    for j in range(0,10):\n",
        "      final.append(0)\n",
        "    #new_list = [0,0,0,0,0,0,0,0,0,0]\n",
        "  else:\n",
        "    for j in range(0,10):\n",
        "      final.append(1)\n",
        "\n",
        "\n",
        " \n",
        "gender = np.asarray(final)\n",
        "gender = np.expand_dims(gender, axis=1)\n",
        "gender.shape\n",
        "\n",
        "y = gender\n"
      ],
      "metadata": {
        "id": "yFk9FlnZ_pId"
      },
      "execution_count": null,
      "outputs": []
    },
    {
      "cell_type": "code",
      "source": [
        "from PIL import Image\n",
        "\n",
        "\n",
        "def load_images_from_folder(folder):\n",
        "  i = 1\n",
        "  for filename in os.listdir(folder):\n",
        "    im = Image.open(os.path.join(folder,filename))\n",
        "    data = np.array(im)\n",
        "    flattened = data.flatten()\n",
        "    reshape_fla = np.expand_dims(flattened, axis=0)\n",
        "    if i == 1:\n",
        "      final = reshape_fla\n",
        "      i = 2\n",
        "    else:\n",
        "      final = np.vstack((final,reshape_fla))\n",
        "\n",
        "  return final\n",
        "\n",
        "\n",
        "pixels = load_images_from_folder('/content/drive/MyDrive/Colab Notebooks/homework_7/faces')\n",
        "\n",
        "pixels.shape\n",
        "\n",
        "X = pixels"
      ],
      "metadata": {
        "id": "GBj-8yx0_qoG"
      },
      "execution_count": null,
      "outputs": []
    },
    {
      "cell_type": "markdown",
      "source": [
        "Using LASSO reduce the size of data"
      ],
      "metadata": {
        "id": "QwCZVKDP_yWD"
      }
    },
    {
      "cell_type": "markdown",
      "source": [
        "finding & plotting down the important pixels"
      ],
      "metadata": {
        "id": "XFpzKp49ABzR"
      }
    },
    {
      "cell_type": "code",
      "source": [
        "from sklearn.linear_model import Lasso\n",
        "\n",
        "lasso = Lasso(alpha = 0.001, normalize = True) \n",
        "lasso.fit(X, y)\n",
        "n = np.sum(lasso.coef_ != 0)\n",
        "\n",
        "\n",
        "pixels = []\n",
        "\n",
        "for i in range(len(lasso.coef_)):\n",
        "  if lasso.coef_[i] != 0: \n",
        "    pixels.append(i)\n",
        "\n",
        "print(pixels)"
      ],
      "metadata": {
        "colab": {
          "base_uri": "https://localhost:8080/"
        },
        "id": "hcyOYuk0MIKT",
        "outputId": "996e2951-3d3f-436c-fc99-d1ca57a0c1db"
      },
      "execution_count": null,
      "outputs": [
        {
          "output_type": "stream",
          "name": "stdout",
          "text": [
            "[173, 698, 924, 1009, 1028, 1052, 1093, 1118, 1132, 1142, 1153, 1165, 1169, 1191, 1240, 1355, 1400, 1408, 1538, 1581, 1611, 1657, 1673, 1707, 1713, 1787, 1795, 1812, 1845, 1906, 2085, 2431, 2539, 2566]\n"
          ]
        },
        {
          "output_type": "stream",
          "name": "stderr",
          "text": [
            "/usr/local/lib/python3.7/dist-packages/sklearn/linear_model/_base.py:145: FutureWarning: 'normalize' was deprecated in version 1.0 and will be removed in 1.2.\n",
            "If you wish to scale the data, use Pipeline with a StandardScaler in a preprocessing stage. To reproduce the previous behavior:\n",
            "\n",
            "from sklearn.pipeline import make_pipeline\n",
            "\n",
            "model = make_pipeline(StandardScaler(with_mean=False), Lasso())\n",
            "\n",
            "If you wish to pass a sample_weight parameter, you need to pass it as a fit parameter to each step of the pipeline as follows:\n",
            "\n",
            "kwargs = {s[0] + '__sample_weight': sample_weight for s in model.steps}\n",
            "model.fit(X, y, **kwargs)\n",
            "\n",
            "Set parameter alpha to: original_alpha * np.sqrt(n_samples). \n",
            "  FutureWarning,\n"
          ]
        }
      ]
    },
    {
      "cell_type": "code",
      "source": [
        "import math\n",
        "\n",
        "x_pos = []\n",
        "y_pos = []\n",
        "width = 46\n",
        "\n",
        "for pixel in pixels:\n",
        "  y_posi = pixel//width \n",
        "  x_posi = (pixel - (width*y_posi)) + 1 \n",
        "  x_pos.append(x_posi)\n",
        "  y_pos.append(y_posi)\n",
        "\n",
        "x_pos.append(46)\n",
        "y_pos.append(56)"
      ],
      "metadata": {
        "id": "rxjGX_U9MPmD"
      },
      "execution_count": null,
      "outputs": []
    },
    {
      "cell_type": "code",
      "source": [
        "import matplotlib.pyplot as plt\n",
        "\n",
        "colors = []\n",
        "\n",
        "for i in range(0,len(pixels)):\n",
        "  colors.append(\"b\")\n",
        "\n",
        "colors.append(\"w\")\n",
        "\n",
        "\n",
        "plt.scatter(x_pos,y_pos, c=colors)\n",
        "\n",
        "plt.title('Canva pixels')\n",
        "plt.xlabel('x')\n",
        "plt.ylabel('y')\n",
        "\n",
        "plt.show()"
      ],
      "metadata": {
        "colab": {
          "base_uri": "https://localhost:8080/",
          "height": 295
        },
        "id": "_CVwkr91MUWh",
        "outputId": "ec680251-00da-44b9-ce12-d5689d002987"
      },
      "execution_count": null,
      "outputs": [
        {
          "output_type": "display_data",
          "data": {
            "text/plain": [
              "<Figure size 432x288 with 1 Axes>"
            ],
            "image/png": "[encoded data removed]"
          },
          "metadata": {
            "needs_background": "light"
          }
        }
      ]
    },
    {
      "cell_type": "markdown",
      "source": [
        "selecting important pixels"
      ],
      "metadata": {
        "id": "oYR-vl2HAl0v"
      }
    },
    {
      "cell_type": "code",
      "source": [
        "X_imp = np.zeros((400, len(pixels)))\n",
        "X_imp = X.T[pixels]\n",
        "X_imp = X_imp.T"
      ],
      "metadata": {
        "id": "3ba4sj_tAmqE"
      },
      "execution_count": null,
      "outputs": []
    },
    {
      "cell_type": "markdown",
      "source": [
        "split and normalize the training, testing dataset"
      ],
      "metadata": {
        "id": "nKWJHblvAq1x"
      }
    },
    {
      "cell_type": "code",
      "source": [
        "from sklearn.model_selection import train_test_split \n",
        "from sklearn.preprocessing import StandardScaler \n",
        "from sklearn.neighbors import KNeighborsClassifier \n",
        "from sklearn.linear_model import LogisticRegression \n",
        "from sklearn import svm"
      ],
      "metadata": {
        "id": "MZGZxNkHA4_l"
      },
      "execution_count": null,
      "outputs": []
    },
    {
      "cell_type": "code",
      "source": [
        "X_imp_train, X_imp_test, y_train, y_test = train_test_split(X_imp, y, test_size=0.2, random_state=1)\n"
      ],
      "metadata": {
        "id": "LPjB2M79AvPi"
      },
      "execution_count": null,
      "outputs": []
    },
    {
      "cell_type": "markdown",
      "source": [
        "Logistic Regression"
      ],
      "metadata": {
        "id": "s-DhMPgQBCZi"
      }
    },
    {
      "cell_type": "code",
      "source": [
        "LR = LogisticRegression()\n",
        "LR.fit(X_imp_train, y_train)\n",
        "predictions_LR = LR.predict(X_imp_test)\n",
        "print(\"LR predictions: \", predictions_LR)\n",
        "print(\"LR accuracy using LASSO: \", 100* LR.score(X_imp_test, y_test),\"%\")"
      ],
      "metadata": {
        "colab": {
          "base_uri": "https://localhost:8080/"
        },
        "id": "NcPQsIGYA9FL",
        "outputId": "c6d81717-dff7-42f6-f33b-2e5e930d7973"
      },
      "execution_count": null,
      "outputs": [
        {
          "output_type": "stream",
          "name": "stdout",
          "text": [
            "LR predictions:  [1 1 1 1 1 1 1 1 1 1 1 1 1 1 1 1 1 0 0 1 1 1 1 1 1 0 1 1 1 1 1 0 1 0 0 1 1\n",
            " 1 1 1 1 1 1 1 1 1 0 1 0 1 1 1 1 1 1 1 1 0 1 0 1 1 1 1 1 1 1 1 1 1 1 1 1 1\n",
            " 1 1 1 0 1 1]\n",
            "LR accuracy using LASSO:  91.25 %\n"
          ]
        },
        {
          "output_type": "stream",
          "name": "stderr",
          "text": [
            "/usr/local/lib/python3.7/dist-packages/sklearn/utils/validation.py:993: DataConversionWarning: A column-vector y was passed when a 1d array was expected. Please change the shape of y to (n_samples, ), for example using ravel().\n",
            "  y = column_or_1d(y, warn=True)\n",
            "/usr/local/lib/python3.7/dist-packages/sklearn/linear_model/_logistic.py:818: ConvergenceWarning: lbfgs failed to converge (status=1):\n",
            "STOP: TOTAL NO. of ITERATIONS REACHED LIMIT.\n",
            "\n",
            "Increase the number of iterations (max_iter) or scale the data as shown in:\n",
            "    https://scikit-learn.org/stable/modules/preprocessing.html\n",
            "Please also refer to the documentation for alternative solver options:\n",
            "    https://scikit-learn.org/stable/modules/linear_model.html#logistic-regression\n",
            "  extra_warning_msg=_LOGISTIC_SOLVER_CONVERGENCE_MSG,\n"
          ]
        }
      ]
    },
    {
      "cell_type": "markdown",
      "source": [
        "K-Nearest Neighbor"
      ],
      "metadata": {
        "id": "P_9vW9yFBIGn"
      }
    },
    {
      "cell_type": "code",
      "source": [
        "KNN = KNeighborsClassifier(n_neighbors = 3)\n",
        "KNN.fit(X_imp_train,y_train)\n",
        "predictions_KNN = LR.predict(X_imp_test)\n",
        "print(\"KNN predictions: \", predictions_KNN)\n",
        "print(\"KNN accuracy using LASSO: \",100*KNN.score(X_imp_test, y_test),\"%\")"
      ],
      "metadata": {
        "colab": {
          "base_uri": "https://localhost:8080/"
        },
        "id": "_aBEQncuBHjg",
        "outputId": "08f466ac-c72a-4f34-9b1f-1c946c9cde00"
      },
      "execution_count": null,
      "outputs": [
        {
          "output_type": "stream",
          "name": "stdout",
          "text": [
            "KNN predictions:  [1 1 1 1 1 1 1 1 1 1 1 1 1 1 1 1 1 0 0 1 1 1 1 1 1 0 1 1 1 1 1 0 1 0 0 1 1\n",
            " 1 1 1 1 1 1 1 1 1 0 1 0 1 1 1 1 1 1 1 1 0 1 0 1 1 1 1 1 1 1 1 1 1 1 1 1 1\n",
            " 1 1 1 0 1 1]\n",
            "KNN accuracy using LASSO:  86.25 %\n"
          ]
        },
        {
          "output_type": "stream",
          "name": "stderr",
          "text": [
            "/usr/local/lib/python3.7/dist-packages/sklearn/neighbors/_classification.py:198: DataConversionWarning: A column-vector y was passed when a 1d array was expected. Please change the shape of y to (n_samples,), for example using ravel().\n",
            "  return self._fit(X, y)\n"
          ]
        }
      ]
    },
    {
      "cell_type": "markdown",
      "source": [
        "Support Vector Machine"
      ],
      "metadata": {
        "id": "BQKJr4Z2BNSI"
      }
    },
    {
      "cell_type": "code",
      "source": [
        "SVM = svm.SVC(kernel='linear',C=1)\n",
        "SVM.fit(X_imp_train,y_train)\n",
        "predictions_SVM = SVM.predict(X_imp_test)\n",
        "print(\"SVM predictions: \", predictions_SVM)\n",
        "print(\"SVM accuracy using LASSO: \",100*SVM.score(X_imp_test, y_test),\"%\")"
      ],
      "metadata": {
        "id": "MOI60SmOBMr4",
        "outputId": "868ddd2a-53db-4973-f4be-44530067aa66",
        "colab": {
          "base_uri": "https://localhost:8080/"
        }
      },
      "execution_count": null,
      "outputs": [
        {
          "output_type": "stream",
          "name": "stderr",
          "text": [
            "/usr/local/lib/python3.7/dist-packages/sklearn/utils/validation.py:993: DataConversionWarning: A column-vector y was passed when a 1d array was expected. Please change the shape of y to (n_samples, ), for example using ravel().\n",
            "  y = column_or_1d(y, warn=True)\n"
          ]
        },
        {
          "output_type": "stream",
          "name": "stdout",
          "text": [
            "SVM predictions:  [1 1 1 1 1 1 1 1 1 1 1 1 1 1 1 1 1 0 0 1 1 1 1 1 1 0 1 1 1 1 1 0 1 1 0 1 1\n",
            " 1 1 1 1 1 1 1 1 1 1 1 0 1 1 1 1 1 1 1 1 0 1 0 1 1 1 1 1 1 1 1 1 1 1 1 1 1\n",
            " 0 1 1 1 1 1]\n",
            "SVM accuracy using LASSO:  93.75 %\n"
          ]
        }
      ]
    },
    {
      "cell_type": "markdown",
      "source": [
        ""
      ],
      "metadata": {
        "id": "7-aBsndOfyX_"
      }
    },
    {
      "cell_type": "markdown",
      "source": [
        "Conclusion:\n",
        "\n",
        "The predictions using LASSO were much better. We still have the problem of the biased introduced by an inequal dataset. However, by using LASSO, we could improve the results for this issue a bit. All three machine learning had better accuracy. "
      ],
      "metadata": {
        "id": "g3AYF5OreRWn"
      }
    }
  ]
}